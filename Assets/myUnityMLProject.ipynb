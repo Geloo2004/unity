{
 "cells": [
  {
   "cell_type": "code",
   "execution_count": 16,
   "id": "0743c1f1-dc69-410f-a4dd-e5f2a614f0a8",
   "metadata": {
    "tags": []
   },
   "outputs": [
    {
     "ename": "KeyboardInterrupt",
     "evalue": "",
     "output_type": "error",
     "traceback": [
      "\u001b[1;31m---------------------------------------------------------------------------\u001b[0m",
      "\u001b[1;31mKeyboardInterrupt\u001b[0m                         Traceback (most recent call last)",
      "Cell \u001b[1;32mIn[16], line 55\u001b[0m\n\u001b[0;32m     53\u001b[0m         sh\u001b[38;5;241m.\u001b[39msheet1\u001b[38;5;241m.\u001b[39mupdate((\u001b[38;5;124m'\u001b[39m\u001b[38;5;124mB\u001b[39m\u001b[38;5;124m'\u001b[39m \u001b[38;5;241m+\u001b[39m \u001b[38;5;28mstr\u001b[39m(i)), fatigue)\n\u001b[0;32m     54\u001b[0m         sh\u001b[38;5;241m.\u001b[39msheet1\u001b[38;5;241m.\u001b[39mupdate((\u001b[38;5;124m'\u001b[39m\u001b[38;5;124mC\u001b[39m\u001b[38;5;124m'\u001b[39m \u001b[38;5;241m+\u001b[39m \u001b[38;5;28mstr\u001b[39m(i)), hitChance)\n\u001b[1;32m---> 55\u001b[0m         time\u001b[38;5;241m.\u001b[39msleep(\u001b[38;5;241m2\u001b[39m)\n\u001b[0;32m     56\u001b[0m averageHitChance \u001b[38;5;241m=\u001b[39m \u001b[38;5;28msum\u001b[39m(hitChanceList)\u001b[38;5;241m/\u001b[39m\u001b[38;5;28mlen\u001b[39m(hitChanceList)\n\u001b[0;32m     57\u001b[0m sh\u001b[38;5;241m.\u001b[39msheet1\u001b[38;5;241m.\u001b[39mupdate(\u001b[38;5;124m'\u001b[39m\u001b[38;5;124mE8\u001b[39m\u001b[38;5;124m'\u001b[39m,\u001b[38;5;124m\"\u001b[39m\u001b[38;5;124maverageHitChance\u001b[39m\u001b[38;5;124m\"\u001b[39m)\n",
      "\u001b[1;31mKeyboardInterrupt\u001b[0m: "
     ]
    }
   ],
   "source": [
    "import gspread\n",
    "import numpy as np\n",
    "import random\n",
    "import time\n",
    "\n",
    "gc = gspread.service_account(filename='myunityproject-400707-c5fa1f65294a.json')\n",
    "sh = gc.open(\"myUnityMLProject\")\n",
    "\n",
    "agility = 40\n",
    "strength = 50\n",
    "maxFatigue = strength + agility + 30 + 50\n",
    "fatigue = maxFatigue\n",
    "skill = 40\n",
    "luck = 40\n",
    "weaponWeight = 40\n",
    "\n",
    "averageHitChance = 0\n",
    "possibleHits = 0\n",
    "hitChanceList = []\n",
    "\n",
    "sh.sheet1.update('E1',\"agility\")\n",
    "sh.sheet1.update('D1',agility)\n",
    "\n",
    "sh.sheet1.update('E2',\"strength\")\n",
    "sh.sheet1.update('D2',strength)\n",
    "\n",
    "sh.sheet1.update('E3',\"maxFatigue\")\n",
    "sh.sheet1.update('D3',maxFatigue)\n",
    "\n",
    "sh.sheet1.update('E4',\"skill\")\n",
    "sh.sheet1.update('D4',skill)\n",
    "\n",
    "sh.sheet1.update('E5',\"luck\")\n",
    "sh.sheet1.update('D5',luck)\n",
    "\n",
    "sh.sheet1.update('E6',\"weaponWeight\")\n",
    "sh.sheet1.update('D6',weaponWeight)\n",
    "\n",
    "\n",
    "i = 0\n",
    "while i<200:    \n",
    "    i += 1\n",
    "    \n",
    "    hitChance = (skill + (agility / 5) + (luck / 10)) * (0.75 + (0.5*(fatigue / maxFatigue)))\n",
    "    hitChanceList.append(hitChance)\n",
    "    \n",
    "    if(fatigue <= 0):\n",
    "        break\n",
    "    else:\n",
    "        possibleHits+=1\n",
    "        fatigue-=3\n",
    "        sh.sheet1.update(('A' + str(i)), str(i))\n",
    "        sh.sheet1.update(('B' + str(i)), fatigue)\n",
    "        sh.sheet1.update(('C' + str(i)), hitChance)\n",
    "        time.sleep(2)\n",
    "averageHitChance = sum(hitChanceList)/len(hitChanceList)\n",
    "sh.sheet1.update('E8',\"averageHitChance\")\n",
    "sh.sheet1.update('D8',averageHitChance)\n",
    "\n",
    "sh.sheet1.update('E9',\"possibleHits\")\n",
    "sh.sheet1.update('D9',possibleHits)"
   ]
  },
  {
   "cell_type": "code",
   "execution_count": null,
   "id": "4f62b37c-e471-4854-990c-66140669aa63",
   "metadata": {
    "jupyter": {
     "source_hidden": true
    },
    "tags": []
   },
   "outputs": [],
   "source": []
  },
  {
   "cell_type": "code",
   "execution_count": null,
   "id": "8fed5a7e-baf6-4125-bbdf-2c3de232eb69",
   "metadata": {},
   "outputs": [],
   "source": []
  },
  {
   "cell_type": "code",
   "execution_count": null,
   "id": "24f06627-dc03-41e3-87df-2a0e56124f46",
   "metadata": {},
   "outputs": [],
   "source": []
  },
  {
   "cell_type": "code",
   "execution_count": null,
   "id": "4b5e9d9c-f59a-44fc-a7a3-e8b9ab28507c",
   "metadata": {},
   "outputs": [],
   "source": []
  },
  {
   "cell_type": "code",
   "execution_count": null,
   "id": "686bb873",
   "metadata": {},
   "outputs": [],
   "source": []
  }
 ],
 "metadata": {
  "kernelspec": {
   "display_name": "Python 3 (ipykernel)",
   "language": "python",
   "name": "python3"
  },
  "language_info": {
   "codemirror_mode": {
    "name": "ipython",
    "version": 3
   },
   "file_extension": ".py",
   "mimetype": "text/x-python",
   "name": "python",
   "nbconvert_exporter": "python",
   "pygments_lexer": "ipython3",
   "version": "3.11.4"
  }
 },
 "nbformat": 4,
 "nbformat_minor": 5
}
